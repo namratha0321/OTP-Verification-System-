{
  "nbformat": 4,
  "nbformat_minor": 0,
  "metadata": {
    "colab": {
      "provenance": []
    },
    "kernelspec": {
      "name": "python3",
      "display_name": "Python 3"
    },
    "language_info": {
      "name": "python"
    }
  },
  "cells": [
    {
      "cell_type": "code",
      "execution_count": null,
      "metadata": {
        "colab": {
          "base_uri": "https://localhost:8080/"
        },
        "id": "RM99SpMpEuLn",
        "outputId": "239a2f28-1bbf-4624-e594-a3c7c948cd05"
      },
      "outputs": [
        {
          "output_type": "stream",
          "name": "stdout",
          "text": [
            "Generated OTP (for testing): 809200\n"
          ]
        }
      ],
      "source": [
        "import random\n",
        "\n",
        "def generate_otp():\n",
        "    otp = random.randint(100000, 999999)\n",
        "    return str(otp)\n",
        "\n",
        "# Test it\n",
        "otp = generate_otp()\n",
        "print(\"Generated OTP (for testing):\", otp)\n"
      ]
    },
    {
      "cell_type": "code",
      "source": [
        "import smtplib\n",
        "from email.message import EmailMessage\n",
        "\n",
        "def send_otp_email(otp, sender_email, receiver_email, app_password):\n",
        "    msg = EmailMessage()\n",
        "    msg.set_content(f\"Your OTP is: {otp}\")\n",
        "    msg['Subject'] = \"OTP Verification\"\n",
        "    msg['From'] = sender_email\n",
        "    msg['To'] = receiver_email\n",
        "\n",
        "    try:\n",
        "        with smtplib.SMTP('smtp.gmail.com', 587) as server:\n",
        "            server.starttls()\n",
        "            server.login(sender_email, app_password)\n",
        "            server.send_message(msg)\n",
        "        print(\"OTP sent successfully!\")\n",
        "    except Exception as e:\n",
        "        print(\"Error sending email:\", e)\n"
      ],
      "metadata": {
        "id": "pu-QaU0zFsyE"
      },
      "execution_count": null,
      "outputs": []
    },
    {
      "cell_type": "code",
      "source": [
        "from getpass import getpass\n",
        "\n",
        "otp = generate_otp()\n",
        "sender_email = input(\"Enter your new Gmail address: \")\n",
        "receiver_email = sender_email  # sending OTP to myself\n",
        "app_password = getpass(\"Enter your Gmail App Password: \")\n",
        "\n",
        "send_otp_email(otp, sender_email, receiver_email, app_password)\n"
      ],
      "metadata": {
        "colab": {
          "base_uri": "https://localhost:8080/"
        },
        "id": "L6Yx8m_AFwgz",
        "outputId": "5d6342aa-326b-4f67-e446-b9e98b7993dc"
      },
      "execution_count": null,
      "outputs": [
        {
          "output_type": "stream",
          "name": "stdout",
          "text": [
            "Enter your new Gmail address: pallelanamratha@gmail.com\n",
            "Enter your Gmail App Password: ··········\n",
            "OTP sent successfully!\n"
          ]
        }
      ]
    },
    {
      "cell_type": "code",
      "source": [
        "def get_user_otp():\n",
        "    user_otp = input(\"Please enter the OTP sent to your email: \")\n",
        "    return user_otp\n",
        "\n",
        "# Function call\n",
        "entered_otp = get_user_otp()\n"
      ],
      "metadata": {
        "colab": {
          "base_uri": "https://localhost:8080/"
        },
        "id": "dEFib6LhF7FP",
        "outputId": "4a436048-c48d-4359-9730-d98e03428f0c"
      },
      "execution_count": null,
      "outputs": [
        {
          "name": "stdout",
          "output_type": "stream",
          "text": [
            "Please enter the OTP sent to your email: 185746\n"
          ]
        }
      ]
    },
    {
      "cell_type": "code",
      "source": [
        "def verify_otp(sent_otp, user_otp):\n",
        "    if sent_otp == user_otp:\n",
        "        print(\"OTP verified successfully. Access granted!\")\n",
        "    else:\n",
        "        print(\"Incorrect OTP. Access denied.\")\n",
        "verify_otp(otp, entered_otp)\n"
      ],
      "metadata": {
        "colab": {
          "base_uri": "https://localhost:8080/"
        },
        "id": "ZEbyXrsQGEpe",
        "outputId": "c2290448-49e7-43c3-c5d0-145ddfb980a4"
      },
      "execution_count": null,
      "outputs": [
        {
          "output_type": "stream",
          "name": "stdout",
          "text": [
            "OTP verified successfully. Access granted!\n"
          ]
        }
      ]
    },
    {
      "cell_type": "code",
      "source": [
        "attempts = 3\n",
        "while attempts > 0:\n",
        "    entered_otp = input(\"Enter the OTP sent to your email: \")\n",
        "    if entered_otp == otp:\n",
        "        print(\"OTP verified successfully. Access granted!\")\n",
        "        break\n",
        "    else:\n",
        "        attempts -= 1\n",
        "        print(f\"Incorrect OTP. Attempts left: {attempts}\")\n",
        "        if attempts == 0:\n",
        "            print(\"Maximum attempts reached. Access denied.\")\n"
      ],
      "metadata": {
        "colab": {
          "base_uri": "https://localhost:8080/"
        },
        "id": "_9awp4ZBGTsU",
        "outputId": "26f63bff-429a-46d9-8565-ad8f509d49f9"
      },
      "execution_count": null,
      "outputs": [
        {
          "output_type": "stream",
          "name": "stdout",
          "text": [
            "Enter the OTP sent to your email: 185746\n",
            "OTP verified successfully. Access granted!\n"
          ]
        }
      ]
    }
  ]
}